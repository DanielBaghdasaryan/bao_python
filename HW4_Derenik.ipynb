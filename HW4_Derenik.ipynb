{
 "cells": [
  {
   "cell_type": "code",
   "execution_count": 10,
   "metadata": {},
   "outputs": [
    {
     "name": "stdout",
     "output_type": "stream",
     "text": [
      "[[1 0 2 2 2 2 2 0 2 2]\n",
      " [1 1 2 3 2 3 1 2 2 3]\n",
      " [2 2 2 2 2 2 3 2 3 2]\n",
      " [3 2 2 2 0 2 3 3 2 3]\n",
      " [2 3 3 1 2 2 3 2 3 1]\n",
      " [2 3 3 3 3 3 2 3 2 3]\n",
      " [2 0 3 3 3 2 3 0 2 2]\n",
      " [0 2 2 3 3 3 1 2 0 3]\n",
      " [2 2 3 2 3 3 3 1 2 0]\n",
      " [2 3 2 3 0 3 3 2 1 1]]\n"
     ]
    }
   ],
   "source": [
    "import numpy as np\n",
    "\n",
    "\n",
    "arr1 = [0]*100\n",
    "Narr = np.array(arr1).reshape(10,10)\n",
    "for c in range(3):\n",
    "    a = np.random.randint(0, 10, 100).reshape(10, 10)\n",
    "    b = np.copy(a)\n",
    "    for i in range(len(a)):\n",
    "        for j in range(len(a)):\n",
    "            if a[i][j] == 0:\n",
    "                zeroing(b, i, j)\n",
    "    Narr += sum([(b == 0)*1])\n",
    "#print('Primary matrix')\n",
    "#print(a, end='\\n\\n\\n\\n\\n')\n",
    "#print('Modified matrix')\n",
    "#print(b)\n",
    "print(Narr)"
   ]
  },
  {
   "cell_type": "code",
   "execution_count": 2,
   "metadata": {},
   "outputs": [],
   "source": [
    "def zeroing(b, i, j):\n",
    "    n,m = i,j\n",
    "    \n",
    "    while True:\n",
    "        if n == 0 or m == 0:\n",
    "            n,m = i,j\n",
    "            break\n",
    "        n -= 1\n",
    "        m -= 1\n",
    "        b[n][m] = 0\n",
    "        \n",
    "    while True:\n",
    "        if n == 9 or m == 0:\n",
    "            n,m = i,j\n",
    "            break\n",
    "        n += 1\n",
    "        m -= 1\n",
    "        b[n][m] = 0\n",
    "        \n",
    "    while True:\n",
    "        if n == 9 or m == 9:\n",
    "            n,m = i,j\n",
    "            break\n",
    "        n += 1\n",
    "        m += 1\n",
    "        b[n][m] = 0\n",
    "        \n",
    "    while True:\n",
    "        if n == 0 or m == 9:\n",
    "            break\n",
    "        n -= 1\n",
    "        m += 1\n",
    "        b[n][m] = 0\n",
    "        \n",
    "    return b\n",
    "    "
   ]
  },
  {
   "cell_type": "code",
   "execution_count": null,
   "metadata": {},
   "outputs": [],
   "source": []
  }
 ],
 "metadata": {
  "kernelspec": {
   "display_name": "Python 3",
   "language": "python",
   "name": "python3"
  },
  "language_info": {
   "codemirror_mode": {
    "name": "ipython",
    "version": 3
   },
   "file_extension": ".py",
   "mimetype": "text/x-python",
   "name": "python",
   "nbconvert_exporter": "python",
   "pygments_lexer": "ipython3",
   "version": "3.7.1"
  }
 },
 "nbformat": 4,
 "nbformat_minor": 2
}
