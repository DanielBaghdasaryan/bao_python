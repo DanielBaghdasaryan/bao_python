{
 "cells": [
  {
   "cell_type": "code",
   "execution_count": 11,
   "metadata": {},
   "outputs": [
    {
     "name": "stdout",
     "output_type": "stream",
     "text": [
      "[[8 2 4 3 0 2 8 9 6 0]\n",
      " [8 0 6 1 6 6 7 4 7 0]\n",
      " [7 3 6 3 9 3 0 5 7 8]\n",
      " [9 4 0 8 7 9 9 7 4 7]\n",
      " [4 5 0 7 3 4 9 9 9 0]\n",
      " [4 5 1 4 5 2 8 8 1 6]\n",
      " [0 6 7 7 2 1 0 2 7 6]\n",
      " [7 5 5 9 8 8 7 3 1 2]\n",
      " [5 3 9 2 8 0 5 1 5 1]\n",
      " [8 6 6 2 7 5 1 5 5 4]]\n",
      "-------------\n",
      "[[0 2 0 3 0 0 0 9 0 0]\n",
      " [0 0 6 0 0 0 0 0 0 0]\n",
      " [0 0 0 0 0 3 0 0 0 8]\n",
      " [0 0 0 0 7 0 0 0 0 0]\n",
      " [0 0 0 0 0 0 0 9 0 0]\n",
      " [0 0 0 0 0 0 8 0 0 0]\n",
      " [0 6 0 0 0 0 0 0 7 6]\n",
      " [7 0 0 0 0 0 0 0 1 2]\n",
      " [0 0 0 2 0 0 0 0 0 1]\n",
      " [0 0 6 0 0 5 0 0 0 0]]\n"
     ]
    }
   ],
   "source": [
    "import numpy as np\n",
    "arr = np.random.randint(0, 10, 100).reshape(10, 10)\n",
    "\n",
    "print(arr)\n",
    "print('-------------')\n",
    "\n",
    "pairs = []\n",
    "\n",
    "for ind, a in enumerate(arr):\n",
    "    for sub_ind, val in enumerate(a):\n",
    "        if val == 0:\n",
    "            pairs.append([ind, sub_ind])\n",
    "\n",
    "def decider(pairs, x2, y2):\n",
    "    for pair in pairs:\n",
    "        x1 = pair[0]\n",
    "        y1 = pair[1]\n",
    "        if abs(x1 - x2) == abs(y1 - y2):\n",
    "            return 'yes'\n",
    "    \n",
    "    return 'no'\n",
    "\n",
    "for ind, a in enumerate(arr):\n",
    "        for sub_ind, val in enumerate(a):\n",
    "            res = decider(pairs, ind, sub_ind)\n",
    "            if res == 'yes':\n",
    "                a[sub_ind] = 0\n",
    "\n",
    "print(arr)\n"
   ]
  },
  {
   "cell_type": "code",
   "execution_count": null,
   "metadata": {},
   "outputs": [],
   "source": []
  },
  {
   "cell_type": "code",
   "execution_count": null,
   "metadata": {},
   "outputs": [],
   "source": []
  },
  {
   "cell_type": "code",
   "execution_count": null,
   "metadata": {},
   "outputs": [],
   "source": []
  }
 ],
 "metadata": {
  "kernelspec": {
   "display_name": "Python 3",
   "language": "python",
   "name": "python3"
  },
  "language_info": {
   "codemirror_mode": {
    "name": "ipython",
    "version": 3
   },
   "file_extension": ".py",
   "mimetype": "text/x-python",
   "name": "python",
   "nbconvert_exporter": "python",
   "pygments_lexer": "ipython3",
   "version": "3.6.6"
  }
 },
 "nbformat": 4,
 "nbformat_minor": 2
}
