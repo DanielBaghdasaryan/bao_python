{
 "cells": [
  {
   "cell_type": "code",
   "execution_count": 199,
   "metadata": {},
   "outputs": [],
   "source": [
    "def diagzero(a, n):\n",
    "    #b = np.zeros( (n, n) )\n",
    "    c= a.copy()\n",
    "    for i in range(n):\n",
    "        for j in range(n):\n",
    "            if a[i,j]==0:\n",
    "                for k in range(1, n):\n",
    "                    if i+k < n and j+k < n:\n",
    "                        c[i+k,j+k]=0\n",
    "                    if i-k >= 0 and j-k >= 0:\n",
    "                        c[i-k,j-k]=0\n",
    "                    if i-k >= 0 and j+k < n:\n",
    "                        c[i-k,j+k]=0\n",
    "                    if i+k < n and j-k >=0:\n",
    "                        c[i+k,j-k]=0\n",
    "    #print(a, end='\\n\\n')\n",
    "    return c\n",
    "def probab(k, n):\n",
    "    b = np.zeros( (n, n) )\n",
    "    p = np.zeros( (n, n) )\n",
    "    for j in range(k):\n",
    "        a = np.random.randint(0, 10, n**2).reshape(n, n)\n",
    "        diagzero(a,n)\n",
    "        d=np.add(a,b)\n",
    "        l=np.add(diagzero(a,n),b)\n",
    "        for i in range(n):\n",
    "            for k in range(n):\n",
    "                if l[i,k]==0:\n",
    "                    p[i,k]+= 1\n",
    "        prob  = np.divide(p, 1000)\n",
    "#         print(d)\n",
    "#         print(\"----\")\n",
    "#         print(l)\n",
    "#         print(\"----\")\n",
    "#         print(p)\n",
    "#         print(\"----\")\n",
    "    return prob   \n",
    "\n",
    "\n"
   ]
  },
  {
   "cell_type": "code",
   "execution_count": 200,
   "metadata": {},
   "outputs": [
    {
     "data": {
      "text/plain": [
       "array([[ 0.459,  0.483,  0.468,  0.49 ,  0.469,  0.502],\n",
       "       [ 0.467,  0.557,  0.568,  0.573,  0.612,  0.486],\n",
       "       [ 0.476,  0.581,  0.645,  0.67 ,  0.579,  0.49 ],\n",
       "       [ 0.483,  0.564,  0.68 ,  0.649,  0.59 ,  0.456],\n",
       "       [ 0.483,  0.596,  0.587,  0.589,  0.548,  0.479],\n",
       "       [ 0.502,  0.485,  0.486,  0.468,  0.447,  0.459]])"
      ]
     },
     "execution_count": 200,
     "metadata": {},
     "output_type": "execute_result"
    }
   ],
   "source": [
    "probab(1000, 6)"
   ]
  },
  {
   "cell_type": "code",
   "execution_count": null,
   "metadata": {},
   "outputs": [],
   "source": []
  }
 ],
 "metadata": {
  "kernelspec": {
   "display_name": "Python 3",
   "language": "python",
   "name": "python3"
  },
  "language_info": {
   "codemirror_mode": {
    "name": "ipython",
    "version": 3
   },
   "file_extension": ".py",
   "mimetype": "text/x-python",
   "name": "python",
   "nbconvert_exporter": "python",
   "pygments_lexer": "ipython3",
   "version": "3.6.7"
  }
 },
 "nbformat": 4,
 "nbformat_minor": 2
}
