{
 "cells": [
  {
   "cell_type": "markdown",
   "metadata": {},
   "source": [
    "\n",
    "### Assignment 1\n",
    "1 point, 10 lines\n",
    "\n",
    "`random.randint(a, b)` function generates 1 random integer number from `a` to `b`\n",
    "\n",
    "<b>To do:</b> Get random elements from given list"
   ]
  },
  {
   "cell_type": "markdown",
   "metadata": {},
   "source": [
    "#### Answer 1"
   ]
  },
  {
   "cell_type": "code",
   "execution_count": 14,
   "metadata": {},
   "outputs": [
    {
     "data": {
      "text/plain": [
       "[7, 1, 8, 11]"
      ]
     },
     "execution_count": 14,
     "metadata": {},
     "output_type": "execute_result"
    }
   ],
   "source": [
    "import random\n",
    "a = [1, 2, 3, 7, 4, 8, 9, 6, 5, 11, 12]\n",
    "random.sample(a, 4)\n",
    " \n",
    "# TODO. Get 4 random unique elements from list `a`"
   ]
  },
  {
   "cell_type": "markdown",
   "metadata": {},
   "source": [
    "<br />\n",
    "<br />\n",
    "<br />\n",
    "\n",
    "### Assignment 2\n",
    "4 points, 40 lines\n",
    "\n",
    "<b>To do:</b> Write following function. Function takes two 4-len lists, e.g. `a = [1, 2, 3, 4]` and `b = [3, 2, 0, 0]`. Function should return two values.\n",
    "\n",
    "1. 2 points: How many elements from list `b` exist in list `a`.\n",
    "2. 2 points: How mane elements from list `b` existing in list `a` are in same positions as well.\n",
    "\n",
    "E.g. for our `a` and `b`, the return should be `2, 1` "
   ]
  },
  {
   "cell_type": "markdown",
   "metadata": {},
   "source": [
    "#### Answer 2"
   ]
  },
  {
   "cell_type": "code",
   "execution_count": 286,
   "metadata": {},
   "outputs": [
    {
     "name": "stdout",
     "output_type": "stream",
     "text": [
      "2\n"
     ]
    },
    {
     "data": {
      "text/plain": [
       "1"
      ]
     },
     "execution_count": 286,
     "metadata": {},
     "output_type": "execute_result"
    }
   ],
   "source": [
    "a = [1, 2, 3, 4] \n",
    "b = [3, 2, 0, 0]\n",
    "def compare(a, b):\n",
    "    print(len(set(a) & set(b)))\n",
    "    #print(set(a) & set(b))\n",
    "    #c=[]\n",
    "    #for i in range(len(a)):\n",
    "       # for j in range(len(b)):\n",
    "           # if a[i]==b[j]:\n",
    "                #c.append(i)\n",
    "    #print(len(c))\n",
    "                #print(i)\n",
    "                #print(a[j])\n",
    "    return sum([len(set(t)) <= 1 for t in zip(a,b)])\n",
    "    \n",
    "compare(a, b)"
   ]
  },
  {
   "cell_type": "markdown",
   "metadata": {},
   "source": [
    "<br />\n",
    "<br />\n",
    "<br />\n",
    "\n",
    "### Assignment 3\n",
    "5 points, 50 lines\n",
    "\n",
    "Match dictionaries. Function get two dictionaries where keys are any strings and values are 2-len lists (coordinates).\n",
    "\n",
    "The return should be a new dictionary with keys from first list, values should be the keys of closer items from second list.\n",
    "\n",
    "example.\n",
    "\n",
    "`a = {'a': [1, 1], 'b': [2, 2]}`\n",
    "`b = {'c': [1.1, 1.1], 'd': [2.2, 2.2]}`\n",
    "\n",
    "return `{'a': 'c', 'b': 'd'}`"
   ]
  },
  {
   "cell_type": "markdown",
   "metadata": {},
   "source": [
    "#### Answer 3"
   ]
  },
  {
   "cell_type": "code",
   "execution_count": 120,
   "metadata": {},
   "outputs": [
    {
     "data": {
      "text/plain": [
       "{'a': 0.020000000000000035, 'b': 0.08000000000000014}"
      ]
     },
     "execution_count": 120,
     "metadata": {},
     "output_type": "execute_result"
    }
   ],
   "source": [
    "a = {'a': [1, 1], 'b': [2, 2]}\n",
    "b = {'c': [1.1, 1.1], 'd': [2.2, 2.2]}\n",
    "def compare(a,b):\n",
    "    e ={}\n",
    "#c=[]\n",
    "    for key, value in a.items():\n",
    "        c=[]\n",
    "        for key1, value1 in b.items():\n",
    "        #c=[]\n",
    "            c.append((value[0] - value1[0])**2+ (value[1] - value1[1])**2)\n",
    "            \n",
    "        #print(c)\n",
    "        #print(key1)\n",
    "        #print(min(c))\n",
    "        \n",
    "        e[key] = min(c)\n",
    "        \n",
    "    return e\n",
    "       \n",
    "# patasxany sxal e, bayc avel chem kara anem)))    \n",
    "compare(a,b)"
   ]
  },
  {
   "cell_type": "markdown",
   "metadata": {},
   "source": [
    "<br />\n",
    "<br />\n",
    "<br />\n",
    "\n",
    "### Assignment 4\n",
    "5 points, 50 lines\n",
    "\n",
    "Function get two arrays of 2d coordinates.\n",
    "\n",
    "The return should be distansions matrix\n",
    "\n",
    "example.\n",
    "\n",
    "`a = [[1,2],[3,4]]`, `b = [[4,6],[7,8],[9,10]]`\n",
    "\n",
    "`return [[ 5.        ,  8.48528137, 11.3137085 ],\n",
    "         [ 2.23606798,  5.65685425,  8.48528137]]`\n",
    "      \n",
    "Note: full score only for 1-line code. Use `np.substract.outer`"
   ]
  },
  {
   "cell_type": "markdown",
   "metadata": {},
   "source": [
    "#### Answer 4"
   ]
  },
  {
   "cell_type": "code",
   "execution_count": 301,
   "metadata": {},
   "outputs": [
    {
     "name": "stdout",
     "output_type": "stream",
     "text": [
      "5.0\n",
      "8.48528137424\n",
      "11.313708499\n",
      "2.2360679775\n",
      "5.65685424949\n",
      "8.48528137424\n"
     ]
    },
    {
     "data": {
      "text/plain": [
       "[5.0,\n",
       " 8.48528137423857,\n",
       " 11.313708498984761,\n",
       " 2.23606797749979,\n",
       " 5.656854249492381,\n",
       " 8.48528137423857]"
      ]
     },
     "execution_count": 301,
     "metadata": {},
     "output_type": "execute_result"
    }
   ],
   "source": [
    "import numpy as np\n",
    "a = [[1,2],[3,4]]\n",
    "b = [[4,6],[7,8],[9,10]]\n",
    "def distances(a, b):\n",
    "    c=[]\n",
    "    for i in a:\n",
    "        #c=[]\n",
    "        for j in b:\n",
    "            #c=[]\n",
    "            c.append(((i[0] - j[0])**2+ (i[1] - j[1])**2)**0.5) \n",
    "            #or \n",
    "            matix = (np.add.outer(i[0], -j[0]) ** 2 + np.add.outer(i[1], -j[1]) ** 2)**0.5\n",
    "            print(matix)\n",
    "    return c\n",
    "distances(a,b)"
   ]
  },
  {
   "cell_type": "code",
   "execution_count": null,
   "metadata": {},
   "outputs": [],
   "source": []
  },
  {
   "cell_type": "markdown",
   "metadata": {},
   "source": [
    "<br />\n",
    "<br />\n",
    "<br />\n",
    "\n",
    "### Assignment 5\n",
    "5 points, 50 lines\n",
    "\n",
    "Using `pandas`\n",
    "\n",
    "We have dataframe `a`"
   ]
  },
  {
   "cell_type": "code",
   "execution_count": 118,
   "metadata": {},
   "outputs": [
    {
     "data": {
      "text/html": [
       "<div>\n",
       "<style scoped>\n",
       "    .dataframe tbody tr th:only-of-type {\n",
       "        vertical-align: middle;\n",
       "    }\n",
       "\n",
       "    .dataframe tbody tr th {\n",
       "        vertical-align: top;\n",
       "    }\n",
       "\n",
       "    .dataframe thead th {\n",
       "        text-align: right;\n",
       "    }\n",
       "</style>\n",
       "<table border=\"1\" class=\"dataframe\">\n",
       "  <thead>\n",
       "    <tr style=\"text-align: right;\">\n",
       "      <th></th>\n",
       "      <th>0</th>\n",
       "      <th>1</th>\n",
       "      <th>2</th>\n",
       "    </tr>\n",
       "  </thead>\n",
       "  <tbody>\n",
       "    <tr>\n",
       "      <th>0</th>\n",
       "      <td>Hello</td>\n",
       "      <td>1</td>\n",
       "      <td>256</td>\n",
       "    </tr>\n",
       "    <tr>\n",
       "      <th>1</th>\n",
       "      <td>Good bye</td>\n",
       "      <td>15.89</td>\n",
       "      <td>9</td>\n",
       "    </tr>\n",
       "    <tr>\n",
       "      <th>2</th>\n",
       "      <td>Hello</td>\n",
       "      <td>World</td>\n",
       "      <td>4000</td>\n",
       "    </tr>\n",
       "  </tbody>\n",
       "</table>\n",
       "</div>"
      ],
      "text/plain": [
       "          0      1     2\n",
       "0     Hello      1   256\n",
       "1  Good bye  15.89     9\n",
       "2     Hello  World  4000"
      ]
     },
     "execution_count": 118,
     "metadata": {},
     "output_type": "execute_result"
    }
   ],
   "source": [
    "import pandas as pd\n",
    "\n",
    "a = pd.DataFrame([['Hello', 1, 256], ['Good bye', 15.89, 9], ['Hello', 'World', 4000]])\n",
    "a"
   ]
  },
  {
   "cell_type": "markdown",
   "metadata": {},
   "source": [
    "<b>To do:</b> Create a.txt file with the following text, looking like table"
   ]
  },
  {
   "cell_type": "code",
   "execution_count": 16,
   "metadata": {},
   "outputs": [
    {
     "name": "stdout",
     "output_type": "stream",
     "text": [
      "\n",
      "Hello  Good bye  Hello\n",
      "1      15.89     World\n",
      "256    9         4000\n",
      "\n"
     ]
    }
   ],
   "source": [
    "print('''\n",
    "Hello  Good bye  Hello\n",
    "1      15.89     World\n",
    "256    9         4000\n",
    "''')"
   ]
  },
  {
   "cell_type": "markdown",
   "metadata": {},
   "source": [
    "#### Answer 5"
   ]
  },
  {
   "cell_type": "code",
   "execution_count": 17,
   "metadata": {},
   "outputs": [],
   "source": [
    "a_trans = a.T\n",
    "a_trans = a_trans.astype(str)  \n",
    "for column in a.columns:\n",
    "    max_lengt = a_trans[column].map(len).max()\n",
    "    a_trans[column] = a_trans[column].map(lambda x: x.ljust(max_lengt))\n",
    "rows_list = a_trans.to_string(header=False,\n",
    "                        index=False,\n",
    "                        index_names=False).split('\\n')    \n",
    "with open('a.txt', 'w') as f:\n",
    "    for row in rows_list:\n",
    "        f.write(row + '\\n')"
   ]
  }
 ],
 "metadata": {
  "kernelspec": {
   "display_name": "Python 3",
   "language": "python",
   "name": "python3"
  },
  "language_info": {
   "codemirror_mode": {
    "name": "ipython",
    "version": 3
   },
   "file_extension": ".py",
   "mimetype": "text/x-python",
   "name": "python",
   "nbconvert_exporter": "python",
   "pygments_lexer": "ipython3",
   "version": "3.6.7"
  }
 },
 "nbformat": 4,
 "nbformat_minor": 2
}
