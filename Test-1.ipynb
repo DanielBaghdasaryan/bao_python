{
 "cells": [
  {
   "cell_type": "markdown",
   "metadata": {},
   "source": [
    "\n",
    "### Assignment 1\n",
    "1 point, 10 lines\n",
    "\n",
    "`random.randint(a, b)` function generates 1 random integer number from `a` to `b`\n",
    "\n",
    "<b>To do:</b> Get random elements from given list\n"
   ]
  },
  {
   "cell_type": "code",
   "execution_count": 14,
   "metadata": {},
   "outputs": [
    {
     "name": "stdout",
     "output_type": "stream",
     "text": [
      "2\n",
      "2\n",
      "5\n",
      "7\n"
     ]
    }
   ],
   "source": [
    "a = [1, 2, 3, 7, 4, 8, 9, 6, 5, 11, 12]\n",
    "import random\n",
    "for x in range(4):\n",
    "    print(random.randint(a[0], a[9]))\n"
   ]
  },
  {
   "cell_type": "markdown",
   "metadata": {},
   "source": [
    "#### Answer 1"
   ]
  },
  {
   "cell_type": "code",
   "execution_count": 17,
   "metadata": {},
   "outputs": [
    {
     "name": "stdout",
     "output_type": "stream",
     "text": [
      "6\n",
      "7\n",
      "10\n",
      "8\n"
     ]
    }
   ],
   "source": [
    "a = [1, 2, 3, 7, 4, 8, 9, 6, 5, 11, 12]\n",
    "import random\n",
    "for x in range(4):\n",
    "    print(random.randint(a[0], a[9]))\n",
    "\n",
    "# TODO. Get 4 random unique elements from list `a`"
   ]
  },
  {
   "cell_type": "markdown",
   "metadata": {},
   "source": [
    "<br />\n",
    "<br />\n",
    "<br />\n",
    "\n",
    "### Assignment 2\n",
    "4 points, 40 lines\n",
    "\n",
    "<b>To do:</b> Write following function. Function takes two 4-len lists, e.g. `a = [1, 2, 3, 4]` and `b = [3, 2, 0, 0]`. Function should return two values.\n",
    "\n",
    "1. 2 points: How many elements from list `b` exist in list `a`.\n",
    "2. 2 points: How mane elements from list `b` existing in list `a` are in same positions as well.\n",
    "\n",
    "E.g. for our `a` and `b`, the return should be `2, 1` "
   ]
  },
  {
   "cell_type": "code",
   "execution_count": 27,
   "metadata": {},
   "outputs": [
    {
     "name": "stdout",
     "output_type": "stream",
     "text": [
      "1\n",
      "2\n"
     ]
    }
   ],
   "source": [
    "b = [3, 2, 0, 0]\n",
    "a = [1, 2, 3, 4]\n",
    "count = 0\n",
    "position = 0\n",
    "ite = [0, 1, 2, 3]\n",
    "for i in ite:\n",
    "    if b[i] == a[i]:\n",
    "        count += 1\n",
    "print(count)\n",
    "\n",
    "for i in ite:\n",
    "    for j in ite:\n",
    "        if b[i] == a[j]:\n",
    "            position += 1\n",
    "print(position)"
   ]
  },
  {
   "cell_type": "markdown",
   "metadata": {},
   "source": [
    "#### Answer 2"
   ]
  },
  {
   "cell_type": "code",
   "execution_count": 31,
   "metadata": {},
   "outputs": [
    {
     "name": "stdout",
     "output_type": "stream",
     "text": [
      "(3, 2)\n"
     ]
    }
   ],
   "source": [
    "def compare(a, b):\n",
    "    count = 0\n",
    "    position = 0\n",
    "    ite = [0, 1, 2, 3]\n",
    "    for i in ite:\n",
    "        if b[i] == a[i]:\n",
    "            position += 1\n",
    "    \n",
    "\n",
    "    for i in ite:\n",
    "        for j in ite:\n",
    "            if b[i] == a[j]:\n",
    "                count += 1\n",
    "    return count, position\n",
    "\n",
    "a = [2, 5, 3, 4]\n",
    "b = [2, 3, 7, 4]\n",
    "print(compare(a, b))\n"
   ]
  },
  {
   "cell_type": "markdown",
   "metadata": {},
   "source": [
    "<br />\n",
    "<br />\n",
    "<br />\n",
    "\n",
    "### Assignment 3\n",
    "5 points, 50 lines\n",
    "\n",
    "Match dictionaries. Function get two dictionaries where keys are any strings and values are 2-len lists (coordinates).\n",
    "\n",
    "The return should be a new dictionary with keys from first list, values should be the keys of closer items from second list.\n",
    "\n",
    "example.\n",
    "\n",
    "`a = {'a': [1, 1], 'b': [2, 2]}`\n",
    "`b = {'c': [1.1, 1.1], 'd': [2.2, 2.2]}`\n",
    "\n",
    "return `{'a': 'c', 'b': 'd'}`"
   ]
  },
  {
   "cell_type": "code",
   "execution_count": 43,
   "metadata": {},
   "outputs": [
    {
     "name": "stdout",
     "output_type": "stream",
     "text": [
      "1\n",
      "2\n"
     ]
    }
   ],
   "source": [
    "a = {'a': [1,2], 'b': [2, 2]}\n",
    "\n",
    "for key, value in a.items():\n",
    "    print(value[0])"
   ]
  },
  {
   "cell_type": "code",
   "execution_count": 45,
   "metadata": {},
   "outputs": [
    {
     "name": "stdout",
     "output_type": "stream",
     "text": [
      "1.1\n"
     ]
    }
   ],
   "source": [
    "a = {'a': [1, 1], 'b': [2, 2]}\n",
    "b = {'c': [1.1, 1.1], 'd': [2.2, 2.2]}\n",
    "c = {}\n",
    "a_c = ((a['a'][0] - b['c'][0])**2 + (a['a'][1] - b['c'][1])**2)**0.5\n",
    "a_d = ((a['a'][0] - b['d'][0])**2 + (a['a'][1] - b['d'][1])**2)**0.5\n",
    "if a_c <= a_d:\n",
    "    c['a'] = 'c'\n",
    "else:\n",
    "    c['a'] = 'd'\n",
    "\n",
    "print(b['c'][0])"
   ]
  },
  {
   "cell_type": "code",
   "execution_count": 51,
   "metadata": {},
   "outputs": [
    {
     "name": "stdout",
     "output_type": "stream",
     "text": [
      "1\n",
      "2\n"
     ]
    }
   ],
   "source": [
    "a = {'a': [1, 1], 'b': [2, 2]}\n",
    "b = {'c': [1.1, 1.1], 'd': [2.2, 2.2]}\n",
    "c = {}\n",
    "for x, y in a.items():\n",
    "    for i, j in b.items():\n",
    "        ((y[0] - j[0])**2 + (y[1] - j[1])**2)**0.5"
   ]
  },
  {
   "cell_type": "markdown",
   "metadata": {},
   "source": [
    "#### Answer 3"
   ]
  },
  {
   "cell_type": "code",
   "execution_count": null,
   "metadata": {},
   "outputs": [],
   "source": [
    "def match(a, b):\n",
    "    '''\n",
    "    param a: dictionary\n",
    "    param b: dictionary\n",
    "    return: dictionary\n",
    "    '''"
   ]
  },
  {
   "cell_type": "markdown",
   "metadata": {},
   "source": [
    "<br />\n",
    "<br />\n",
    "<br />\n",
    "\n",
    "### Assignment 4\n",
    "5 points, 50 lines\n",
    "\n",
    "Function get two arrays of 2d coordinates.\n",
    "\n",
    "The return should be distansions matrix\n",
    "\n",
    "example.\n",
    "\n",
    "`a = [[1,2],[3,4]]`, `b = [[4,6],[7,8],[9,10]]`\n",
    "\n",
    "`return [[ 5.        ,  8.48528137, 11.3137085 ],\n",
    "         [ 2.23606798,  5.65685425,  8.48528137]]`\n",
    "      \n",
    "Note: full score only for 1-line code. Use `np.substract.outer`"
   ]
  },
  {
   "cell_type": "markdown",
   "metadata": {},
   "source": [
    "#### Answer 4"
   ]
  },
  {
   "cell_type": "code",
   "execution_count": 15,
   "metadata": {},
   "outputs": [],
   "source": [
    "def distances(a, b):\n",
    "    '''\n",
    "    param a: np.array\n",
    "    param b: np.array\n",
    "    return: np.array\n",
    "    '''"
   ]
  },
  {
   "cell_type": "markdown",
   "metadata": {},
   "source": [
    "<br />\n",
    "<br />\n",
    "<br />\n",
    "\n",
    "### Assignment 5\n",
    "5 points, 50 lines\n",
    "\n",
    "Using `pandas`\n",
    "\n",
    "We have dataframe `a`"
   ]
  },
  {
   "cell_type": "code",
   "execution_count": 173,
   "metadata": {},
   "outputs": [
    {
     "data": {
      "text/html": [
       "<div>\n",
       "<style scoped>\n",
       "    .dataframe tbody tr th:only-of-type {\n",
       "        vertical-align: middle;\n",
       "    }\n",
       "\n",
       "    .dataframe tbody tr th {\n",
       "        vertical-align: top;\n",
       "    }\n",
       "\n",
       "    .dataframe thead th {\n",
       "        text-align: right;\n",
       "    }\n",
       "</style>\n",
       "<table border=\"1\" class=\"dataframe\">\n",
       "  <thead>\n",
       "    <tr style=\"text-align: right;\">\n",
       "      <th></th>\n",
       "      <th>0</th>\n",
       "      <th>1</th>\n",
       "      <th>2</th>\n",
       "    </tr>\n",
       "  </thead>\n",
       "  <tbody>\n",
       "    <tr>\n",
       "      <th>0</th>\n",
       "      <td>Hello</td>\n",
       "      <td>1</td>\n",
       "      <td>256</td>\n",
       "    </tr>\n",
       "    <tr>\n",
       "      <th>1</th>\n",
       "      <td>Good bye</td>\n",
       "      <td>15.89</td>\n",
       "      <td>9</td>\n",
       "    </tr>\n",
       "    <tr>\n",
       "      <th>2</th>\n",
       "      <td>Hello</td>\n",
       "      <td>World</td>\n",
       "      <td>4000</td>\n",
       "    </tr>\n",
       "  </tbody>\n",
       "</table>\n",
       "</div>"
      ],
      "text/plain": [
       "          0      1     2\n",
       "0     Hello      1   256\n",
       "1  Good bye  15.89     9\n",
       "2     Hello  World  4000"
      ]
     },
     "execution_count": 173,
     "metadata": {},
     "output_type": "execute_result"
    }
   ],
   "source": [
    "import pandas as pd\n",
    "\n",
    "a = pd.DataFrame([['Hello', 1, 256], ['Good bye', 15.89, 9], ['Hello', 'World', 4000]])\n",
    "a"
   ]
  },
  {
   "cell_type": "markdown",
   "metadata": {},
   "source": [
    "<b>To do:</b> Create a.txt file with the following text, looking like table"
   ]
  },
  {
   "cell_type": "code",
   "execution_count": 16,
   "metadata": {},
   "outputs": [
    {
     "name": "stdout",
     "output_type": "stream",
     "text": [
      "\n",
      "Hello  Good bye  Hello\n",
      "1      15.89     World\n",
      "256    9         4000\n",
      "\n"
     ]
    }
   ],
   "source": [
    "print('''\n",
    "Hello  Good bye  Hello\n",
    "1      15.89     World\n",
    "256    9         4000\n",
    "''')"
   ]
  },
  {
   "cell_type": "markdown",
   "metadata": {},
   "source": [
    "#### Answer 5"
   ]
  },
  {
   "cell_type": "code",
   "execution_count": 17,
   "metadata": {},
   "outputs": [],
   "source": [
    "# TODO"
   ]
  }
 ],
 "metadata": {
  "kernelspec": {
   "display_name": "Python 3",
   "language": "python",
   "name": "python3"
  },
  "language_info": {
   "codemirror_mode": {
    "name": "ipython",
    "version": 3
   },
   "file_extension": ".py",
   "mimetype": "text/x-python",
   "name": "python",
   "nbconvert_exporter": "python",
   "pygments_lexer": "ipython3",
   "version": "3.7.1"
  }
 },
 "nbformat": 4,
 "nbformat_minor": 2
}
