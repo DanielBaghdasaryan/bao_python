{
 "cells": [
  {
   "cell_type": "code",
   "execution_count": 255,
   "metadata": {},
   "outputs": [
    {
     "data": {
      "text/plain": [
       "array([[ 0.,  9.,  1.,  5.,  7.,  1.,  2.,  0.,  7.,  3.],\n",
       "       [ 0.,  4.,  6.,  5.,  4.,  4.,  2.,  3.,  7.,  8.],\n",
       "       [ 0.,  3.,  9.,  4.,  7.,  2.,  0.,  2.,  1.,  4.],\n",
       "       [ 6.,  3.,  0.,  4.,  2.,  0.,  3.,  7.,  3.,  5.],\n",
       "       [ 6.,  7.,  5.,  7.,  4.,  3.,  1.,  8.,  5.,  8.],\n",
       "       [ 3.,  1.,  4.,  0.,  6.,  0.,  3.,  7.,  6.,  1.],\n",
       "       [ 3.,  3.,  7.,  2.,  8.,  2.,  0.,  5.,  9.,  8.],\n",
       "       [ 6.,  9.,  1.,  8.,  0.,  0.,  6.,  9.,  4.,  9.],\n",
       "       [ 9.,  5.,  0.,  2.,  7.,  5.,  1.,  7.,  4.,  2.],\n",
       "       [ 4.,  7.,  5.,  1.,  3.,  0.,  3.,  0.,  9.,  9.]])"
      ]
     },
     "execution_count": 255,
     "metadata": {},
     "output_type": "execute_result"
    }
   ],
   "source": [
    "import numpy as np\n",
    "\n",
    "a = np.random.randint(0, 10, 100).reshape(10, 10)\n",
    "b = np.zeros( (10, 10) )\n",
    "c= np.add(a,b)\n",
    "c"
   ]
  },
  {
   "cell_type": "code",
   "execution_count": 256,
   "metadata": {},
   "outputs": [
    {
     "data": {
      "text/plain": [
       "array([[ 0.,  9.,  0.,  5.,  0.,  1.,  2.,  0.,  0.,  3.],\n",
       "       [ 0.,  0.,  6.,  0.,  0.,  0.,  2.,  0.,  7.,  0.],\n",
       "       [ 0.,  0.,  0.,  0.,  0.,  2.,  0.,  2.,  0.,  4.],\n",
       "       [ 6.,  0.,  0.,  0.,  2.,  0.,  3.,  0.,  3.,  0.],\n",
       "       [ 6.,  0.,  0.,  0.,  0.,  3.,  0.,  8.,  0.,  8.],\n",
       "       [ 0.,  1.,  0.,  0.,  0.,  0.,  0.,  0.,  6.,  1.],\n",
       "       [ 3.,  3.,  0.,  0.,  0.,  0.,  0.,  5.,  0.,  8.],\n",
       "       [ 6.,  0.,  1.,  0.,  0.,  0.,  6.,  0.,  4.,  9.],\n",
       "       [ 0.,  5.,  0.,  0.,  0.,  0.,  0.,  7.,  0.,  2.],\n",
       "       [ 4.,  0.,  0.,  0.,  3.,  0.,  0.,  0.,  9.,  0.]])"
      ]
     },
     "execution_count": 256,
     "metadata": {},
     "output_type": "execute_result"
    }
   ],
   "source": [
    "for i in range(10):\n",
    "    for j in range(10):\n",
    "        for k in range(10):\n",
    "            if a[i,j]==0 and i+k < 10 and i-k>=0 and  j+k < 10 and j-k>=0:\n",
    "                c[i+k,j+k]=0\n",
    "                c[i-k,j-k]=0\n",
    "                c[i-k,j+k]=0\n",
    "                c[i+k,j-k]=0\n",
    "                           \n",
    "c"
   ]
  },
  {
   "cell_type": "code",
   "execution_count": 257,
   "metadata": {},
   "outputs": [
    {
     "data": {
      "text/plain": [
       "[array([0]),\n",
       " array([0, 9]),\n",
       " array([0, 4, 1]),\n",
       " array([6, 3, 6, 5]),\n",
       " array([6, 3, 9, 5, 7]),\n",
       " array([3, 7, 0, 4, 4, 1]),\n",
       " array([3, 1, 5, 4, 7, 4, 2]),\n",
       " array([6, 3, 4, 7, 2, 2, 2, 0]),\n",
       " array([9, 9, 7, 0, 4, 0, 0, 3, 7]),\n",
       " array([4, 5, 1, 2, 6, 3, 3, 2, 7, 3]),\n",
       " array([7, 0, 8, 8, 0, 1, 7, 1, 8]),\n",
       " array([5, 2, 0, 2, 3, 8, 3, 4]),\n",
       " array([1, 7, 0, 0, 7, 5, 5]),\n",
       " array([3, 5, 6, 5, 6, 8]),\n",
       " array([0, 1, 9, 9, 1]),\n",
       " array([3, 7, 4, 8]),\n",
       " array([0, 4, 9]),\n",
       " array([9, 2]),\n",
       " array([9]),\n",
       " array([3]),\n",
       " array([7, 8]),\n",
       " array([0, 7, 4]),\n",
       " array([2, 3, 1, 5]),\n",
       " array([1, 2, 2, 3, 8]),\n",
       " array([7, 4, 0, 7, 5, 1]),\n",
       " array([5, 4, 2, 3, 8, 6, 8]),\n",
       " array([1, 5, 7, 0, 1, 7, 9, 9]),\n",
       " array([9, 6, 4, 2, 3, 3, 5, 4, 2]),\n",
       " array([0, 4, 9, 4, 4, 0, 0, 9, 4, 9]),\n",
       " array([0, 3, 0, 7, 6, 2, 6, 7, 9]),\n",
       " array([0, 3, 5, 0, 8, 0, 1, 0]),\n",
       " array([6, 7, 4, 2, 0, 5, 3]),\n",
       " array([6, 1, 7, 8, 7, 0]),\n",
       " array([3, 3, 1, 2, 3]),\n",
       " array([3, 9, 0, 1]),\n",
       " array([6, 5, 5]),\n",
       " array([9, 7]),\n",
       " array([4])]"
      ]
     },
     "execution_count": 257,
     "metadata": {},
     "output_type": "execute_result"
    }
   ],
   "source": [
    "diags = [a[::-1,:].diagonal(i) for i in range(-9,10)]\n",
    "diags.extend(a.diagonal(i) for i in range(9,-10,-1))\n",
    "diags\n"
   ]
  },
  {
   "cell_type": "code",
   "execution_count": 263,
   "metadata": {},
   "outputs": [
    {
     "data": {
      "text/plain": [
       "array([6, 3, 6, 5])"
      ]
     },
     "execution_count": 263,
     "metadata": {},
     "output_type": "execute_result"
    }
   ],
   "source": [
    "diags[3]"
   ]
  },
  {
   "cell_type": "code",
   "execution_count": 264,
   "metadata": {},
   "outputs": [
    {
     "ename": "TypeError",
     "evalue": "'int' object is not subscriptable",
     "output_type": "error",
     "traceback": [
      "\u001b[1;31m---------------------------------------------------------------------------\u001b[0m",
      "\u001b[1;31mTypeError\u001b[0m                                 Traceback (most recent call last)",
      "\u001b[1;32m<ipython-input-264-08a4ab77b64c>\u001b[0m in \u001b[0;36m<module>\u001b[1;34m\u001b[0m\n\u001b[0;32m      1\u001b[0m \u001b[1;32mfor\u001b[0m \u001b[0mx\u001b[0m \u001b[1;32min\u001b[0m \u001b[0mrange\u001b[0m\u001b[1;33m(\u001b[0m\u001b[1;36m20\u001b[0m\u001b[1;33m)\u001b[0m\u001b[1;33m:\u001b[0m\u001b[1;33m\u001b[0m\u001b[1;33m\u001b[0m\u001b[0m\n\u001b[0;32m      2\u001b[0m     \u001b[1;32mfor\u001b[0m \u001b[0my\u001b[0m \u001b[1;32min\u001b[0m \u001b[0mrange\u001b[0m\u001b[1;33m(\u001b[0m\u001b[1;36m10\u001b[0m\u001b[1;33m)\u001b[0m\u001b[1;33m:\u001b[0m\u001b[1;33m\u001b[0m\u001b[1;33m\u001b[0m\u001b[0m\n\u001b[1;32m----> 3\u001b[1;33m         \u001b[1;32mif\u001b[0m \u001b[0mdiags\u001b[0m\u001b[1;33m[\u001b[0m\u001b[0mx\u001b[0m\u001b[1;33m]\u001b[0m\u001b[1;33m[\u001b[0m\u001b[0my\u001b[0m\u001b[1;33m]\u001b[0m\u001b[1;33m==\u001b[0m\u001b[1;36m0\u001b[0m\u001b[1;33m:\u001b[0m\u001b[1;33m\u001b[0m\u001b[1;33m\u001b[0m\u001b[0m\n\u001b[0m\u001b[0;32m      4\u001b[0m             \u001b[0mdiags\u001b[0m\u001b[1;33m[\u001b[0m\u001b[0mx\u001b[0m\u001b[1;33m]\u001b[0m\u001b[1;33m=\u001b[0m\u001b[1;36m0\u001b[0m\u001b[1;33m\u001b[0m\u001b[1;33m\u001b[0m\u001b[0m\n\u001b[0;32m      5\u001b[0m \u001b[0mdiags\u001b[0m\u001b[1;33m\u001b[0m\u001b[1;33m\u001b[0m\u001b[0m\n",
      "\u001b[1;31mTypeError\u001b[0m: 'int' object is not subscriptable"
     ]
    }
   ],
   "source": [
    "for x in range(20):\n",
    "    for y in range(10):\n",
    "        if diags[x][y]==0:\n",
    "            diags[x]=0\n",
    "diags\n",
    "            "
   ]
  },
  {
   "cell_type": "code",
   "execution_count": 237,
   "metadata": {},
   "outputs": [
    {
     "ename": "ValueError",
     "evalue": "The truth value of an array with more than one element is ambiguous. Use a.any() or a.all()",
     "output_type": "error",
     "traceback": [
      "\u001b[1;31m---------------------------------------------------------------------------\u001b[0m",
      "\u001b[1;31mValueError\u001b[0m                                Traceback (most recent call last)",
      "\u001b[1;32m<ipython-input-237-a4391e1801f9>\u001b[0m in \u001b[0;36m<module>\u001b[1;34m\u001b[0m\n\u001b[0;32m      1\u001b[0m \u001b[1;32mfor\u001b[0m \u001b[0mindex\u001b[0m\u001b[1;33m,\u001b[0m \u001b[0mi\u001b[0m \u001b[1;32min\u001b[0m \u001b[0menumerate\u001b[0m\u001b[1;33m(\u001b[0m\u001b[0mdiags\u001b[0m\u001b[1;33m)\u001b[0m\u001b[1;33m:\u001b[0m\u001b[1;33m\u001b[0m\u001b[1;33m\u001b[0m\u001b[0m\n\u001b[1;32m----> 2\u001b[1;33m     \u001b[1;32mif\u001b[0m \u001b[0mi\u001b[0m\u001b[1;33m==\u001b[0m\u001b[1;36m0\u001b[0m\u001b[1;33m:\u001b[0m\u001b[1;33m\u001b[0m\u001b[1;33m\u001b[0m\u001b[0m\n\u001b[0m\u001b[0;32m      3\u001b[0m         \u001b[0mdiags\u001b[0m\u001b[1;33m[\u001b[0m\u001b[0mindex\u001b[0m\u001b[1;33m]\u001b[0m\u001b[1;33m=\u001b[0m\u001b[1;36m0\u001b[0m\u001b[1;33m\u001b[0m\u001b[1;33m\u001b[0m\u001b[0m\n\u001b[0;32m      4\u001b[0m \u001b[0mdiags\u001b[0m\u001b[1;33m\u001b[0m\u001b[1;33m\u001b[0m\u001b[0m\n",
      "\u001b[1;31mValueError\u001b[0m: The truth value of an array with more than one element is ambiguous. Use a.any() or a.all()"
     ]
    }
   ],
   "source": [
    "for index, i in enumerate(diags):\n",
    "    if i==0:\n",
    "        diags[index]=0\n",
    "diags"
   ]
  },
  {
   "cell_type": "code",
   "execution_count": null,
   "metadata": {},
   "outputs": [],
   "source": []
  }
 ],
 "metadata": {
  "kernelspec": {
   "display_name": "Python 3",
   "language": "python",
   "name": "python3"
  },
  "language_info": {
   "codemirror_mode": {
    "name": "ipython",
    "version": 3
   },
   "file_extension": ".py",
   "mimetype": "text/x-python",
   "name": "python",
   "nbconvert_exporter": "python",
   "pygments_lexer": "ipython3",
   "version": "3.6.7"
  }
 },
 "nbformat": 4,
 "nbformat_minor": 2
}
