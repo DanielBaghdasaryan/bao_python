{
 "cells": [
  {
   "cell_type": "code",
   "execution_count": 47,
   "metadata": {},
   "outputs": [
    {
     "name": "stdout",
     "output_type": "stream",
     "text": [
      "Primary matrix\n",
      "[[8 2 6 3 4 8 5 9 7 1]\n",
      " [8 7 1 3 3 6 4 4 5 9]\n",
      " [0 5 5 5 9 1 7 1 9 7]\n",
      " [4 1 3 8 9 8 4 7 3 4]\n",
      " [6 4 6 8 0 6 8 1 2 2]\n",
      " [2 5 1 3 4 3 7 1 2 0]\n",
      " [1 0 2 4 3 3 3 9 6 5]\n",
      " [5 7 9 9 5 2 0 2 0 0]\n",
      " [9 5 9 8 1 4 3 9 2 1]\n",
      " [8 7 7 8 4 4 4 9 2 2]]\n",
      "\n",
      "\n",
      "\n",
      "\n",
      "Modified matrix\n",
      "[[0 0 0 3 0 8 5 0 0 1]\n",
      " [0 0 0 0 3 0 0 0 5 9]\n",
      " [0 0 0 0 0 0 0 1 9 7]\n",
      " [4 0 0 0 0 0 4 0 3 4]\n",
      " [6 4 0 0 0 0 0 1 0 0]\n",
      " [0 5 0 0 0 0 0 0 0 0]\n",
      " [1 0 0 4 0 0 0 0 0 0]\n",
      " [0 0 0 9 5 0 0 0 0 0]\n",
      " [0 5 9 0 1 0 0 0 0 0]\n",
      " [8 7 7 8 0 0 0 0 0 0]]\n"
     ]
    }
   ],
   "source": [
    "import numpy as np\n",
    "\n",
    "a = np.random.randint(0, 10, 100).reshape(10, 10)\n",
    "b = np.copy(a)\n",
    "for i in range(len(a)):\n",
    "    for j in range(len(a)):\n",
    "        if a[i][j] == 0:\n",
    "            zeroing(b, i, j)\n",
    "print('Primary matrix')\n",
    "print(a, end='\\n\\n\\n\\n\\n')\n",
    "print('Modified matrix')\n",
    "print(b)\n"
   ]
  },
  {
   "cell_type": "code",
   "execution_count": 37,
   "metadata": {},
   "outputs": [],
   "source": [
    "def zeroing(b, i, j):\n",
    "    n,m = i,j\n",
    "    \n",
    "    while True:\n",
    "        if n == 0 or m == 0:\n",
    "            n,m = i,j\n",
    "            break\n",
    "        n -= 1\n",
    "        m -= 1\n",
    "        b[n][m] = 0\n",
    "        \n",
    "    while True:\n",
    "        if n == 9 or m == 0:\n",
    "            n,m = i,j\n",
    "            break\n",
    "        n += 1\n",
    "        m -= 1\n",
    "        b[n][m] = 0\n",
    "        \n",
    "    while True:\n",
    "        if n == 9 or m == 9:\n",
    "            n,m = i,j\n",
    "            break\n",
    "        n += 1\n",
    "        m += 1\n",
    "        b[n][m] = 0\n",
    "        \n",
    "    while True:\n",
    "        if n == 0 or m == 9:\n",
    "            break\n",
    "        n -= 1\n",
    "        m += 1\n",
    "        b[n][m] = 0\n",
    "        \n",
    "    return b\n",
    "    "
   ]
  },
  {
   "cell_type": "code",
   "execution_count": null,
   "metadata": {},
   "outputs": [],
   "source": []
  }
 ],
 "metadata": {
  "kernelspec": {
   "display_name": "Python 3",
   "language": "python",
   "name": "python3"
  },
  "language_info": {
   "codemirror_mode": {
    "name": "ipython",
    "version": 3
   },
   "file_extension": ".py",
   "mimetype": "text/x-python",
   "name": "python",
   "nbconvert_exporter": "python",
   "pygments_lexer": "ipython3",
   "version": "3.7.1"
  }
 },
 "nbformat": 4,
 "nbformat_minor": 2
}
