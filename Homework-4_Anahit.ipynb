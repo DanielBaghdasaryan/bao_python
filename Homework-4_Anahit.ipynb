{
 "cells": [
  {
   "cell_type": "code",
   "execution_count": 20,
   "metadata": {},
   "outputs": [
    {
     "name": "stdout",
     "output_type": "stream",
     "text": [
      "[[0 0 0 0 0 0 0 0 0 0]\n",
      " [0 0 0 0 0 0 0 0 0 0]\n",
      " [0 0 0 0 0 0 0 0 0 0]\n",
      " [0 0 0 0 0 0 0 0 0 0]\n",
      " [0 0 0 0 0 0 0 0 0 0]\n",
      " [0 0 0 0 0 0 0 0 0 0]\n",
      " [0 0 0 0 0 0 0 0 0 0]\n",
      " [0 0 0 0 0 0 0 0 0 0]\n",
      " [0 0 0 0 0 0 0 0 0 0]\n",
      " [0 0 0 0 0 0 0 0 0 0]]\n",
      "[[63 66 66 66 66 65 64 66 66 66]\n",
      " [63 71 71 73 73 70 72 70 73 66]\n",
      " [66 71 75 76 78 78 77 77 70 67]\n",
      " [67 73 77 80 81 81 81 78 73 65]\n",
      " [65 74 78 82 85 85 82 78 72 66]\n",
      " [68 71 78 83 85 84 82 78 73 66]\n",
      " [64 73 77 82 83 82 80 77 73 66]\n",
      " [66 71 79 78 80 78 77 76 70 67]\n",
      " [66 73 73 72 71 72 73 71 71 64]\n",
      " [66 67 67 64 65 65 66 67 65 63]]\n"
     ]
    },
    {
     "data": {
      "image/png": "[encoded data removed]",
      "text/plain": [
       "<Figure size 432x288 with 1 Axes>"
      ]
     },
     "metadata": {
      "needs_background": "light"
     },
     "output_type": "display_data"
    }
   ],
   "source": [
    "import numpy as np\n",
    "import matplotlib.pyplot as plt\n",
    "\n",
    "def stats():\n",
    "    arr = np.random.randint(0, 10, 100).reshape(10, 10)\n",
    "\n",
    "    pairs = []\n",
    "    for ind, a in enumerate(arr):\n",
    "        for sub_ind, val in enumerate(a):\n",
    "            if val == 0:\n",
    "                pairs.append([ind, sub_ind])\n",
    "\n",
    "    def decider(pairs, x2, y2):\n",
    "        for pair in pairs:\n",
    "            x1 = pair[0]\n",
    "            y1 = pair[1]\n",
    "            if abs(x1 - x2) == abs(y1 - y2):\n",
    "                return 'yes'        \n",
    "        return 'no'\n",
    "\n",
    "    for ind, a in enumerate(arr):\n",
    "            for sub_ind, val in enumerate(a):\n",
    "                res = decider(pairs, ind, sub_ind)\n",
    "                if res == 'yes':\n",
    "                    a[sub_ind] = 0\n",
    "\n",
    "    return arr\n",
    "\n",
    "accumulator = np.zeros((10, 10), dtype=int)\n",
    "\n",
    "print(accumulator)\n",
    "\n",
    "for v in range(0, 1000):\n",
    "    res = stats()\n",
    "    for row_ind, row in enumerate(res):\n",
    "        for col_ind, col in enumerate(row):\n",
    "            if col == 0:\n",
    "                accumulator[row_ind][col_ind] += 1\n",
    "\n",
    "def probability(x, n):\n",
    "    return int(x / n * 100)\n",
    "\n",
    "for row_ind, row in enumerate(accumulator):\n",
    "    for col_ind, col in enumerate(row):\n",
    "        accumulator[row_ind][col_ind] = probability(col, 1000)\n",
    "\n",
    "print(accumulator)\n",
    "\n",
    "plt.imshow(accumulator)\n",
    "plt.show()\n"
   ]
  },
  {
   "cell_type": "code",
   "execution_count": null,
   "metadata": {},
   "outputs": [],
   "source": []
  },
  {
   "cell_type": "code",
   "execution_count": null,
   "metadata": {},
   "outputs": [],
   "source": []
  },
  {
   "cell_type": "code",
   "execution_count": null,
   "metadata": {},
   "outputs": [],
   "source": []
  }
 ],
 "metadata": {
  "kernelspec": {
   "display_name": "Python 3",
   "language": "python",
   "name": "python3"
  },
  "language_info": {
   "codemirror_mode": {
    "name": "ipython",
    "version": 3
   },
   "file_extension": ".py",
   "mimetype": "text/x-python",
   "name": "python",
   "nbconvert_exporter": "python",
   "pygments_lexer": "ipython3",
   "version": "3.6.6"
  }
 },
 "nbformat": 4,
 "nbformat_minor": 2
}
